{
 "cells": [
  {
   "cell_type": "markdown",
   "metadata": {},
   "source": [
    "# QuantumAI.Cloud Screening Test - Task 1"
   ]
  },
  {
   "cell_type": "markdown",
   "metadata": {},
   "source": [
    "Develop a Python program to generate a list of 2n unique random positive integers, each using a maximum of n bits and represented in decimals, and another random positive integer, k, using n bits. Then, choose one (or more, if you prefer) of the following options to implement:\n",
    "\n",
    "1. Check if k exists in the list.\n",
    "\n",
    "2. Find all integers less than k in the list.\n",
    "\n",
    "Display the results and the number of steps required to achieve them.\n",
    "\n"
   ]
  },
  {
   "cell_type": "code",
   "execution_count": 2,
   "metadata": {},
   "outputs": [],
   "source": [
    "import random"
   ]
  },
  {
   "cell_type": "code",
   "execution_count": 3,
   "metadata": {},
   "outputs": [],
   "source": [
    "def generate_random_list(n : int):\n",
    "    \"\"\"\n",
    "    n: positive integer value\n",
    "    Returns random number k and list_n of 2n unique positive integers.\n",
    "    \"\"\"\n",
    "    max_value = 2**n\n",
    "    num_of_value = 2*n\n",
    "    list_n = random.sample(range(1, max_value), num_of_value)\n",
    "    k = random.randint(1, max_value)\n",
    "    return k, list_n\n",
    "\n",
    "def search_k(k: int, list_n: list[int]):\n",
    "    \"\"\"\n",
    "    k: positive integer number\n",
    "    list_n: list of positive integers.\n",
    "    Returns (True, n_steps) if k exists, and (False, n_steps) otherwise,\n",
    "    where n_steps is the number of steps needed.\n",
    "    \"\"\"\n",
    "    n_steps = 0\n",
    "    for i in list_n:\n",
    "        n_steps += 1\n",
    "        if i == k:\n",
    "            return True, n_steps\n",
    "    return False, n_steps\n",
    "    \n",
    "\n",
    "def less_than_k(k: int, list_n: list[int]):\n",
    "    \"\"\"\n",
    "    k: positive integer number\n",
    "    list_n: list of positive integers.\n",
    "    Return (list_nk, n_steps), where list_nk contains all numbers in list_n that \n",
    "    are less than k (if any), n_steps is the number of steps needed.\n",
    "    \"\"\"\n",
    "    n_steps = 0\n",
    "    list_nk = list_n.copy()\n",
    "    for i in list_n:\n",
    "        n_steps += 1\n",
    "        if i >= k:\n",
    "            list_nk.remove(i)\n",
    "    return list_nk, n_steps"
   ]
  },
  {
   "cell_type": "code",
   "execution_count": 4,
   "metadata": {},
   "outputs": [
    {
     "name": "stdout",
     "output_type": "stream",
     "text": [
      "445 [935, 295, 699, 772, 886, 541, 789, 267, 1022, 754, 657, 150, 511, 981, 67, 994, 253, 288, 70, 910]\n",
      "(False, 20)\n",
      "([295, 267, 150, 67, 253, 288, 70], 20)\n"
     ]
    }
   ],
   "source": [
    "k, list_n = generate_random_list(10)\n",
    "k_exist = search_k(k, list_n)\n",
    "list_nk = less_than_k(k, list_n)\n",
    "print(k, list_n)\n",
    "print(k_exist)\n",
    "print(list_nk)"
   ]
  },
  {
   "cell_type": "markdown",
   "metadata": {},
   "source": [
    "**1. Discuss the method used for generating random numbers and its impact on the results. Can we generate the same random values multiple times? If so, please add that implementation.**"
   ]
  },
  {
   "cell_type": "markdown",
   "metadata": {},
   "source": [
    "- There are many random number generators to get a closer approximation to random numbers:\n",
    "    - Hardware random number generators (HRNG)\n",
    "    - True random number generators (TRNG)\n",
    "    - Pseudo-random number generators (PRNG) or Deterministic random bit generators (DRBG)\n",
    "    - Physical random number generators\n",
    "    - ...\n",
    "- The random number function random() above uses pseudo-random number generators (PRNG).\n",
    "- The pseudo-random number generator:\n",
    "    - Is an algorithm for generating a sequence of numbers \n",
    "    - That approximates the properties of random numbers.\n",
    "    - Not truly random because it is completely determined by an initial value, called the seed (initial state).\n",
    "    - If the same seed is used, the same sequence of numbers will be generated. It is useful when you want to generate the same random numbers multiple times.\n",
    "    - Normally, the seed is set to the current time, so the sequence of random numbers will be different each time the program is run.\n",
    "    - The random number function random() above uses the seed of the current time to generate random numbers. If we want to generate the same random numbers multiple times, we can set the seed to a fixed value.\n"
   ]
  },
  {
   "cell_type": "code",
   "execution_count": 5,
   "metadata": {},
   "outputs": [
    {
     "name": "stdout",
     "output_type": "stream",
     "text": [
      "7 [7, 4, 6, 1, 2, 3]\n",
      "(True, 1)\n",
      "([4, 6, 1, 2, 3], 6)\n"
     ]
    }
   ],
   "source": [
    "# Random seed implementation\n",
    "random.seed(0) # Set initial seed to 0\n",
    "k, list_n = generate_random_list(3)\n",
    "k_exist = search_k(k, list_n)\n",
    "list_nk = less_than_k(k, list_n)\n",
    "print(k, list_n)\n",
    "print(k_exist)\n",
    "print(list_nk)"
   ]
  },
  {
   "cell_type": "markdown",
   "metadata": {},
   "source": [
    "As we can see that the random number generator is not truly random, it is deterministic. It is useful when we want to generate the same random numbers multiple times. We can set the seed to a fixed value to generate the same random numbers multiple times.\n",
    "\n",
    "So that PRNG have some potential issues:\n",
    "- Shorter-than-expected periods for some seed states (such seed states may be called \"weak\" in this context)\n",
    "- Lack of uniformity of distribution for large quantities of generated numbers\n",
    "- PRNGs are not suitable for applications where it is important that the numbers are really unpredictable, such as data encryption and gambling"
   ]
  },
  {
   "cell_type": "markdown",
   "metadata": {},
   "source": [
    "References:\n",
    "- https://en.wikipedia.org/wiki/Pseudorandom_number_generator\n",
    "- https://docs.python.org/3/library/random.html\n",
    "- Github Copilot"
   ]
  },
  {
   "cell_type": "markdown",
   "metadata": {},
   "source": [
    "**2. Analyze the average number of trials needed to solve Task 1.a and 1.b. Try to find the optimal solution with the smallest number of steps required. Discuss the complexities involved in the operations.**"
   ]
  },
  {
   "cell_type": "code",
   "execution_count": 6,
   "metadata": {},
   "outputs": [],
   "source": [
    "def analyze_search_k(n_bits: int, n_trials: int):\n",
    "    \"\"\"\n",
    "    n_trials: number of trials to run\n",
    "    Returns the average number of steps needed to solve search_k.\n",
    "    \"\"\"\n",
    "    total_steps = 0\n",
    "    for _ in range(n_trials):\n",
    "        k, list_n = generate_random_list(n_bits)\n",
    "        _, n_steps = search_k(k, list_n)  # Search for k in the list\n",
    "        total_steps += n_steps\n",
    "    return total_steps / n_trials\n",
    "\n",
    "\n",
    "def analyze_less_than_k(n_bits: int, n_trials: int):\n",
    "    \"\"\"\n",
    "    n_trials: number of trials to run\n",
    "    Returns the average number of steps needed to solve search_k.\n",
    "    \"\"\"\n",
    "    total_steps = 0\n",
    "    for _ in range(n_trials):\n",
    "        k, list_n = generate_random_list(n_bits)\n",
    "        _, n_steps = less_than_k(k, list_n)\n",
    "        total_steps += n_steps\n",
    "    return total_steps / n_trials"
   ]
  },
  {
   "cell_type": "code",
   "execution_count": 8,
   "metadata": {},
   "outputs": [
    {
     "name": "stdout",
     "output_type": "stream",
     "text": [
      "Number of elements in the list: 6\n",
      "Average number of steps to search K: 4.081\n",
      "Average number of steps to find numbers less than K: 6.0\n",
      "Number of elements in the list: 10\n",
      "Average number of steps to search K: 8.644\n",
      "Average number of steps to find numbers less than K: 10.0\n",
      "Number of elements in the list: 20\n",
      "Average number of steps to search K: 19.806\n",
      "Average number of steps to find numbers less than K: 20.0\n",
      "Number of elements in the list: 30\n",
      "Average number of steps to search K: 29.991\n",
      "Average number of steps to find numbers less than K: 30.0\n",
      "Number of elements in the list: 40\n",
      "Average number of steps to search K: 39.981\n",
      "Average number of steps to find numbers less than K: 40.0\n"
     ]
    }
   ],
   "source": [
    "n_bits = [3, 5, 10, 15, 20]\n",
    "n_trials = 1000\n",
    "\n",
    "for n in n_bits:\n",
    "    average_steps_search_k = analyze_search_k(n, n_trials)\n",
    "    average_steps_less_than_k = analyze_less_than_k(n, n_trials)\n",
    "    print(f\"Number of elements in the list: {2*n}\")\n",
    "    print(f\"Average number of steps to search K: {average_steps_search_k}\")\n",
    "    print(f\"Average number of steps to find numbers less than K: {average_steps_less_than_k}\")"
   ]
  },
  {
   "cell_type": "markdown",
   "metadata": {},
   "source": [
    "To analyze the average number of trials, I try to run the program with the same input multiple times (1000 times) and calculate the average number of trials needed to solve.\n",
    "\n",
    "From the analysis, we can see that the average number of trials needed:\n",
    "\n",
    "NOTE: *Assume that n is the number of elements in the array*\n",
    "\n",
    "- to solve search_k is increasing more and more that close to the number of elements in the array --> The complexity of the search_k is O(n)\n",
    "- to solve less_than_k is almost constant --> The complexity of the less_than_k is O(n)\n"
   ]
  },
  {
   "cell_type": "markdown",
   "metadata": {},
   "source": [
    "### Task 1.a: search_k\n",
    "\n",
    "For optimial solution, we can use hash table to store the elements of the array. We will go through all elements of the array and build hash value for each element and use this value as the key of the hash table. Then, we can check if the hash value of k is in the hash table or not. If it is in the hash table, we can return the index of the element in the array. This solution has the complexity of O(n) to build the hash table and O(1) to check if the hash value of k is in the hash table or not.\n",
    "\n",
    "=> The complexity of the optimal solution is O(n) in first time to build the hash table and O(1) in the next times to check if the hash value of k is in the hash table or not.\n",
    "\n",
    "Refs: https://www.geeksforgeeks.org/hash-table-data-structure"
   ]
  },
  {
   "cell_type": "markdown",
   "metadata": {},
   "source": [
    "### Task 1.b: less_than_k\n",
    "\n",
    "For optimal solution, we can soft the array in ascending order and then use binary search to find the index of the element that is equal to k. The index of the element that is equal to k is the number of elements that are less than k. This solution will take O(nlogn) to sort the array (use mergesoft or quicksoft), O(log(n)) to find the index of the element that is equal to k and O(k) to find the number of elements that are less than k. \n",
    "\n",
    "=> The complexity of the optimal solution is O(nlogn) to sort the array (one time) and O(log(n) + k) to find the number of elements that are less than k.\n",
    "\n",
    "Refs: https://www.geeksforgeeks.org/binary-search"
   ]
  },
  {
   "cell_type": "markdown",
   "metadata": {},
   "source": [
    "**3. Which problems in Task 1 can be improved using quantum computing? Why?**\n",
    "\n",
    "The problems search_k in Task 1 can be improved using quantum computing. Because the search problem is a problem that can be solved by Grover's algorithm. Grover's algorithm is a quantum algorithm that finds with high probability the unique input to a black box function that produces a particular output value, using just O(√N) evaluations of the function, where N is the size of the function's domain.\n",
    "\n",
    "Thuật toán Grover hoạt động hiệu quả với việc tìm kiếm các trong một danh sách không có cấu trúc (như ví dụ trên là mảng không được sắp xếp). Thuật toán Grover sử dụng các khái niệm cơ bản của lý thuyết lượng tử như trạng thái chồng chập, đo lường, ... \n",
    "\n",
    "Khi các qubit đang ở trạng thái chồng chập, chúng có thể biểu diễn nhiều giá trị cùng một lúc. Khi đo lường, chúng sẽ trở về trạng thái cơ sở và sẽ nhận được một giá trị duy nhất với xác suất của các kết quả có thể có là như nhau. Trong không gian lượng tử, việc điều khiển các qubit qua các cổng lượng tử có thể dự đoán các giá trị của các qubit sau khi đo lường.\n",
    "\n",
    "Thuật toán Grover giải quyết bài toán tìm kiếm search_k trong không gian lượng tử bằng cách liên tục thực hiện đảo ngược dấu của trạng thái mục tiêu (giá trị cần tìm) và giữ nguyên dấu của các trạng thái khác. Sau đó, sử dụng cổng Amplitude Amplification để tăng xác suất trạng thái mục tiêu và giảm xác suất các trạng thái khác. Sau khi thực hiện O(√N) lần lặp, xác suất tìm thấy trạng thái mục tiêu sẽ tăng lên đáng kể. Từ đó, có thể tìm được giá trị cần tìm trong O(√N) lần thực hiện.\n",
    "\n",
    "Refs:\n",
    "- https://en.wikipedia.org/wiki/Grover%27s_algorithm\n",
    "- https://qiskit.org/textbook/ch-algorithms/grover.html"
   ]
  },
  {
   "cell_type": "markdown",
   "metadata": {},
   "source": [
    "# 3. Bonus Task"
   ]
  },
  {
   "cell_type": "markdown",
   "metadata": {},
   "source": [
    "Bonus 1: Using Grover's algorithm to solve the search_k problem in Task 1."
   ]
  },
  {
   "cell_type": "code",
   "execution_count": 1,
   "metadata": {},
   "outputs": [
    {
     "name": "stdout",
     "output_type": "stream",
     "text": [
      "Defaulting to user installation because normal site-packages is not writeable\n",
      "Requirement already satisfied: qiskit in /Users/tam.pham/Library/Python/3.9/lib/python/site-packages (1.1.0)\n",
      "Requirement already satisfied: pylatexenc in /Users/tam.pham/Library/Python/3.9/lib/python/site-packages (2.10)\n",
      "Requirement already satisfied: qiskit-aer in /Users/tam.pham/Library/Python/3.9/lib/python/site-packages (0.14.0.1)\n",
      "Requirement already satisfied: qiskit-ibm-runtime in /Users/tam.pham/Library/Python/3.9/lib/python/site-packages (0.23.0)\n",
      "Requirement already satisfied: dill>=0.3 in /Users/tam.pham/Library/Python/3.9/lib/python/site-packages (from qiskit) (0.3.8)\n",
      "Requirement already satisfied: symengine>=0.11 in /Users/tam.pham/Library/Python/3.9/lib/python/site-packages (from qiskit) (0.11.0)\n",
      "Requirement already satisfied: stevedore>=3.0.0 in /Users/tam.pham/Library/Python/3.9/lib/python/site-packages (from qiskit) (5.2.0)\n",
      "Requirement already satisfied: numpy<3,>=1.17 in /Users/tam.pham/Library/Python/3.9/lib/python/site-packages (from qiskit) (1.26.2)\n",
      "Requirement already satisfied: scipy>=1.5 in /Users/tam.pham/Library/Python/3.9/lib/python/site-packages (from qiskit) (1.13.0)\n",
      "Requirement already satisfied: rustworkx>=0.14.0 in /Users/tam.pham/Library/Python/3.9/lib/python/site-packages (from qiskit) (0.14.2)\n",
      "Requirement already satisfied: python-dateutil>=2.8.0 in /Users/tam.pham/Library/Python/3.9/lib/python/site-packages (from qiskit) (2.8.2)\n",
      "Requirement already satisfied: typing-extensions in /Users/tam.pham/Library/Python/3.9/lib/python/site-packages (from qiskit) (4.9.0)\n",
      "Requirement already satisfied: sympy>=1.3 in /Users/tam.pham/Library/Python/3.9/lib/python/site-packages (from qiskit) (1.12)\n",
      "Requirement already satisfied: psutil>=5 in /Users/tam.pham/Library/Python/3.9/lib/python/site-packages (from qiskit-aer) (5.9.6)\n",
      "Requirement already satisfied: requests>=2.19 in /Users/tam.pham/Library/Python/3.9/lib/python/site-packages (from qiskit-ibm-runtime) (2.32.2)\n",
      "Requirement already satisfied: websocket-client>=1.5.1 in /Users/tam.pham/Library/Python/3.9/lib/python/site-packages (from qiskit-ibm-runtime) (1.8.0)\n",
      "Requirement already satisfied: ibm-platform-services>=0.22.6 in /Users/tam.pham/Library/Python/3.9/lib/python/site-packages (from qiskit-ibm-runtime) (0.53.6)\n",
      "Requirement already satisfied: requests-ntlm>=1.1.0 in /Users/tam.pham/Library/Python/3.9/lib/python/site-packages (from qiskit-ibm-runtime) (1.2.0)\n",
      "Requirement already satisfied: urllib3>=1.21.1 in /Users/tam.pham/Library/Python/3.9/lib/python/site-packages (from qiskit-ibm-runtime) (2.2.1)\n",
      "Requirement already satisfied: pydantic in /Users/tam.pham/Library/Python/3.9/lib/python/site-packages (from qiskit-ibm-runtime) (2.7.1)\n",
      "Requirement already satisfied: ibm-cloud-sdk-core<4.0.0,>=3.19.2 in /Users/tam.pham/Library/Python/3.9/lib/python/site-packages (from ibm-platform-services>=0.22.6->qiskit-ibm-runtime) (3.20.0)\n",
      "Requirement already satisfied: PyJWT<3.0.0,>=2.8.0 in /Users/tam.pham/Library/Python/3.9/lib/python/site-packages (from ibm-cloud-sdk-core<4.0.0,>=3.19.2->ibm-platform-services>=0.22.6->qiskit-ibm-runtime) (2.8.0)\n",
      "Requirement already satisfied: six>=1.5 in /Library/Developer/CommandLineTools/Library/Frameworks/Python3.framework/Versions/3.9/lib/python3.9/site-packages (from python-dateutil>=2.8.0->qiskit) (1.15.0)\n",
      "Requirement already satisfied: charset-normalizer<4,>=2 in /Users/tam.pham/Library/Python/3.9/lib/python/site-packages (from requests>=2.19->qiskit-ibm-runtime) (3.3.2)\n",
      "Requirement already satisfied: idna<4,>=2.5 in /Users/tam.pham/Library/Python/3.9/lib/python/site-packages (from requests>=2.19->qiskit-ibm-runtime) (3.7)\n",
      "Requirement already satisfied: certifi>=2017.4.17 in /Users/tam.pham/Library/Python/3.9/lib/python/site-packages (from requests>=2.19->qiskit-ibm-runtime) (2024.2.2)\n",
      "Requirement already satisfied: cryptography>=1.3 in /Users/tam.pham/Library/Python/3.9/lib/python/site-packages (from requests-ntlm>=1.1.0->qiskit-ibm-runtime) (42.0.7)\n",
      "Requirement already satisfied: pyspnego>=0.1.6 in /Users/tam.pham/Library/Python/3.9/lib/python/site-packages (from requests-ntlm>=1.1.0->qiskit-ibm-runtime) (0.10.2)\n",
      "Requirement already satisfied: cffi>=1.12 in /Users/tam.pham/Library/Python/3.9/lib/python/site-packages (from cryptography>=1.3->requests-ntlm>=1.1.0->qiskit-ibm-runtime) (1.16.0)\n",
      "Requirement already satisfied: pycparser in /Users/tam.pham/Library/Python/3.9/lib/python/site-packages (from cffi>=1.12->cryptography>=1.3->requests-ntlm>=1.1.0->qiskit-ibm-runtime) (2.22)\n",
      "Requirement already satisfied: pbr!=2.1.0,>=2.0.0 in /Users/tam.pham/Library/Python/3.9/lib/python/site-packages (from stevedore>=3.0.0->qiskit) (6.0.0)\n",
      "Requirement already satisfied: mpmath>=0.19 in /Users/tam.pham/Library/Python/3.9/lib/python/site-packages (from sympy>=1.3->qiskit) (1.3.0)\n",
      "Requirement already satisfied: pydantic-core==2.18.2 in /Users/tam.pham/Library/Python/3.9/lib/python/site-packages (from pydantic->qiskit-ibm-runtime) (2.18.2)\n",
      "Requirement already satisfied: annotated-types>=0.4.0 in /Users/tam.pham/Library/Python/3.9/lib/python/site-packages (from pydantic->qiskit-ibm-runtime) (0.7.0)\n",
      "\u001b[33mWARNING: You are using pip version 21.2.4; however, version 24.0 is available.\n",
      "You should consider upgrading via the '/Library/Developer/CommandLineTools/usr/bin/python3 -m pip install --upgrade pip' command.\u001b[0m\n",
      "Note: you may need to restart the kernel to use updated packages.\n"
     ]
    }
   ],
   "source": [
    "pip install qiskit pylatexenc qiskit-aer qiskit-ibm-runtime"
   ]
  },
  {
   "cell_type": "code",
   "execution_count": 1,
   "metadata": {},
   "outputs": [
    {
     "name": "stdout",
     "output_type": "stream",
     "text": [
      "\u001b[33mWARNING: Skipping qiskit as it is not installed.\u001b[0m\n",
      "\u001b[33mWARNING: Skipping pylatexenc as it is not installed.\u001b[0m\n",
      "Note: you may need to restart the kernel to use updated packages.\n"
     ]
    }
   ],
   "source": [
    "pip uninstall -y qiskit pylatexenc"
   ]
  },
  {
   "cell_type": "code",
   "execution_count": 4,
   "metadata": {},
   "outputs": [],
   "source": [
    "from qiskit import QuantumCircuit\n",
    "import numpy as np\n",
    "from qiskit import *\n",
    "from qiskit.circuit.library import *\n",
    "from qiskit_aer import AerSimulator\n",
    "from qiskit.visualization import plot_histogram\n",
    "from qiskit.quantum_info import Operator\n",
    "\n",
    "# Create an simulator backend \n",
    "simulator = AerSimulator()\n",
    "\n",
    "# Define Oracle operator \n",
    "def oracle(n, indices_to_mark, name='Oracle'):\n",
    "    # Create a quantum circuit on n qubits\n",
    "    qc = QuantumCircuit(n, name=name)\n",
    "\n",
    "    # Create an identity matrix of size 2^n\n",
    "    oracle_matrix = np.identity(2**n)\n",
    "    \n",
    "    # Mark the elements in the diagonal\n",
    "    for index_to_mark in indices_to_mark:\n",
    "        oracle_matrix[index_to_mark, index_to_mark] = -1\n",
    "\n",
    "    # Convert the matrix into a unitary operator\n",
    "    qc.unitary(Operator(oracle_matrix), range(n))\n",
    "\n",
    "    return qc\n",
    "\n",
    "# Define Diffusion operator\n",
    "def Diffusion(n):\n",
    "    # Create a quantum circuit on n qubits\n",
    "    qc = QuantumCircuit(n, name=\"Diffusion\")\n",
    "\n",
    "    # Apply H-gates to all qubits\n",
    "    qc.h(range(n))\n",
    "    \n",
    "    # Append the oracle to the circuit\n",
    "    qc.append(oracle(n, [0]), range(n))\n",
    "\n",
    "    # Apply H-gates to all qubits\n",
    "    qc.h(range(n))\n",
    "\n",
    "    return qc\n",
    "\n",
    "# Define Grover's algorithm\n",
    "def Grover(n, indices_of_marked_elements):\n",
    "    # Create a quantum circuit on n qubits\n",
    "    qc = QuantumCircuit(n, n)\n",
    "\n",
    "    # Calculate the number of rounds\n",
    "    r = int(np.floor(np.pi/4*np.sqrt(2**n/len(indices_of_marked_elements))))\n",
    "    print(f'Number of rounds: {r}')\n",
    "\n",
    "    # Apply H-gates to all qubits\n",
    "    qc.h(range(n))\n",
    "\n",
    "    # Apply the Grover's algorithm\n",
    "    # Loop over the rounds\n",
    "    for _ in range(r):\n",
    "        qc.append(oracle(n, indices_of_marked_elements), range(n))\n",
    "        qc.append(Diffusion(n), range(n))\n",
    "\n",
    "    # Measure all qubits\n",
    "    qc.measure(range(n), range(n))\n",
    "\n",
    "    return qc"
   ]
  },
  {
   "cell_type": "code",
   "execution_count": 8,
   "metadata": {},
   "outputs": [
    {
     "name": "stdout",
     "output_type": "stream",
     "text": [
      "3 qubits, basis states [0, 5] marked, 1 rounds\n"
     ]
    },
    {
     "name": "stderr",
     "output_type": "stream",
     "text": [
      "/Users/tam.pham/Library/Python/3.9/lib/python/site-packages/numpy/linalg/linalg.py:2180: RuntimeWarning: divide by zero encountered in det\n",
      "  r = _umath_linalg.det(a, signature=signature)\n",
      "/Users/tam.pham/Library/Python/3.9/lib/python/site-packages/numpy/linalg/linalg.py:2180: RuntimeWarning: invalid value encountered in det\n",
      "  r = _umath_linalg.det(a, signature=signature)\n"
     ]
    },
    {
     "data": {
      "image/png": "[encoded data removed]",
      "text/plain": [
       "<Figure size 640x480 with 1 Axes>"
      ]
     },
     "execution_count": 8,
     "metadata": {},
     "output_type": "execute_result"
    }
   ],
   "source": [
    "# Init circuit and run Grover's algorithm\n",
    "# Define the number of qubits and the indices of the marked elements\n",
    "circuit = Grover(3, [0, 5])\n",
    "\n",
    "# Run the circuit\n",
    "result = simulator.run(circuit.decompose(reps=6)).result()\n",
    "\n",
    "# Get the counts of probabilities\n",
    "counts = result.get_counts(circuit)\n",
    "\n",
    "# Plot the histogram\n",
    "plot_histogram(counts, title=\"Probability distribution for Grover's algorithm\")"
   ]
  },
  {
   "cell_type": "markdown",
   "metadata": {},
   "source": [
    "Refs:\n",
    "- Simulator: https://qiskit.github.io/qiskit-aer/tutorials/1_aersimulator.html"
   ]
  },
  {
   "cell_type": "code",
   "execution_count": null,
   "metadata": {},
   "outputs": [],
   "source": []
  }
 ],
 "metadata": {
  "kernelspec": {
   "display_name": "Python 3",
   "language": "python",
   "name": "python3"
  },
  "language_info": {
   "codemirror_mode": {
    "name": "ipython",
    "version": 3
   },
   "file_extension": ".py",
   "mimetype": "text/x-python",
   "name": "python",
   "nbconvert_exporter": "python",
   "pygments_lexer": "ipython3",
   "version": "3.9.6"
  }
 },
 "nbformat": 4,
 "nbformat_minor": 2
}
